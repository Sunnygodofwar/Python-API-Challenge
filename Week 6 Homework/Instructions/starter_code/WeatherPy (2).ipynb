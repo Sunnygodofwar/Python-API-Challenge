{
 "cells": [
  {
   "cell_type": "markdown",
   "metadata": {},
   "source": [
    "# WeatherPy\n",
    "----\n",
    "\n",
    "#### Note\n",
    "* Instructions have been included for each segment. You do not have to follow them exactly, but they are included to help you think through the steps."
   ]
  },
  {
   "cell_type": "code",
   "execution_count": null,
   "metadata": {
    "scrolled": true
   },
   "outputs": [],
   "source": [
    "# Dependencies and Setup\n",
    "import matplotlib.pyplot as plt\n",
    "import pandas as pd\n",
    "import numpy as np\n",
    "import requests\n",
    "import time\n",
    "from scipy.stats import linregress\n",
    "\n",
    "\n",
    "# Import API key\n",
    "from config import weather_api_key\n",
    "\n",
    "# Incorporated citipy to determine city based on latitude and longitude\n",
    "from citipy import citipy\n",
    "\n",
    "# Output File (CSV)\n",
    "output_data_file = \"output_data/cities.csv\"\n",
    "\n",
    "# Range of latitudes and longitudes\n",
    "lat_range = (-90, 90)\n",
    "lng_range = (-180, 180)"
   ]
  },
  {
   "cell_type": "code",
   "execution_count": null,
   "metadata": {},
   "outputs": [],
   "source": [
    "weather_api_key"
   ]
  },
  {
   "cell_type": "markdown",
   "metadata": {},
   "source": [
    "## Generate Cities List"
   ]
  },
  {
   "cell_type": "code",
   "execution_count": null,
   "metadata": {},
   "outputs": [],
   "source": [
    "# List for holding lat_lngs and cities\n",
    "lat_lngs = []\n",
    "cities = []\n",
    "\n",
    "# Create a set of random lat and lng combinations\n",
    "lats = np.random.uniform(lat_range[0], lat_range[1], size=1500)\n",
    "lngs = np.random.uniform(lng_range[0], lng_range[1], size=1500)\n",
    "lat_lngs = zip(lats, lngs)\n",
    "\n",
    "# Identify nearest city for each lat, lng combination\n",
    "for lat_lng in lat_lngs:\n",
    "    city = citipy.nearest_city(lat_lng[0], lat_lng[1]).city_name\n",
    "    \n",
    "    # If the city is unique, then add it to a our cities list\n",
    "    if city not in cities:\n",
    "        cities.append(city)\n",
    "\n",
    "# Print the city count to confirm sufficient count\n",
    "len(cities)\n"
   ]
  },
  {
   "cell_type": "code",
   "execution_count": null,
   "metadata": {},
   "outputs": [],
   "source": [
    "print(cities)\n",
    "\n",
    "\n"
   ]
  },
  {
   "cell_type": "markdown",
   "metadata": {},
   "source": [
    "### Perform API Calls\n",
    "* Perform a weather check on each city using a series of successive API calls.\n",
    "* Include a print log of each city as it'sbeing processed (with the city number and city name).\n"
   ]
  },
  {
   "cell_type": "code",
   "execution_count": null,
   "metadata": {},
   "outputs": [],
   "source": [
    "#base url\n",
    "base_url = \"http://api.openweathermap.org/data/2.5/weather?\"\n",
    "\n",
    "#units by default-Kelvin; metric-Celsius; imperial-Fahrenheit, we need Impreial\n",
    "\n",
    "units = \"imperial\"\n",
    "\n",
    "\n",
    "#lists\n",
    "\n",
    "temp = [] \n",
    "lat = []\n",
    "lng = []\n",
    "humidity = []\n",
    "cloudiness = []\n",
    "wind_speed = []\n",
    "countries = []\n",
    "city_name = []\n",
    "\n",
    "#counter\n",
    "city_counter = 0\n",
    "\n",
    "for city in cities:\n",
    "    try:\n",
    "        city_counter += 1\n",
    "        #print(f\"searching for {city}\")\n",
    "        # Build query URL\n",
    "        query_url = base_url + \"appid=\" + weather_api_key + \"&q=\" + city + f\"&units={units}\"\n",
    "\n",
    "\n",
    "        # Get weather data\n",
    "        response = requests.get(f\"{query_url}&q={city}\").json() \n",
    "        print(response)\n",
    "        \n",
    "        #append temperature to temp list\n",
    "        temperature_variable = response[\"main\"][\"temp_max\"]\n",
    "        temp.append(temperature_variable)\n",
    "        \n",
    "        lat.append(response[\"coord\"][\"lat\"])\n",
    "        lng.append(response[\"coord\"][\"lon\"])\n",
    "        humidity.append(response[\"main\"][\"humidity\"])\n",
    "        cloudiness.append(response[\"clouds\"][\"all\"])\n",
    "        wind_speed.append(response[\"wind\"][\"speed\"])\n",
    "        countries.append(response[\"sys\"][\"country\"])\n",
    "        city_name.append(response[\"name\"])\n",
    "\n",
    "        print(f\"found city: {city} (number {city_counter})\")\n",
    "        \n",
    "    except KeyError:\n",
    "        print(\"fancy message\")\n",
    "        pass           "
   ]
  },
  {
   "cell_type": "markdown",
   "metadata": {},
   "source": [
    "### Convert Raw Data to DataFrame\n",
    "* Export the city data into a .csv.\n",
    "* Display the DataFrame"
   ]
  },
  {
   "cell_type": "code",
   "execution_count": null,
   "metadata": {},
   "outputs": [],
   "source": [
    "#first create a dictionary of the lists to retrieve stored data from\n",
    "weather_dict = {\"City\":city_name, \"Cloudiness\":cloudiness, \"Countries\":countries, \"Temp\":temp, \"Humidity\":humidity, \"Wind Speed\":wind_speed, \"Lat\":lat, \"Lng\":lng}\n",
    "\n",
    "\n",
    "#now create a data frome from the above formed dictionary\n",
    "weather_data = pd.DataFrame(weather_dict)\n",
    "\n",
    "#display count\n",
    "weather_data.count()\n",
    "\n"
   ]
  },
  {
   "cell_type": "code",
   "execution_count": null,
   "metadata": {},
   "outputs": [],
   "source": [
    "#save to CSV file df.to_csv(r'Path where you want to store the exported CSV file\\File Name.csv', index = False)\n",
    "#save data frame to CSV\n",
    "weather_data.to_csv('weather_data.csv', index = False)\n",
    "\n",
    "# Display data frame head \n",
    "weather_data.head(50)"
   ]
  },
  {
   "cell_type": "markdown",
   "metadata": {},
   "source": [
    "## Plotting the Data\n",
    "* Use proper labeling of the plots using plot titles (including date of analysis) and axes labels.\n",
    "* Save the plotted figures as .pngs."
   ]
  },
  {
   "cell_type": "markdown",
   "metadata": {},
   "source": [
    "## Latitude vs. Temperature Plot"
   ]
  },
  {
   "cell_type": "code",
   "execution_count": null,
   "metadata": {
    "scrolled": true
   },
   "outputs": [],
   "source": [
    "#graph a scatter plot after extracting data from weather_data dataframe\n",
    "plt.scatter(weather_data['Lat'], weather_data['Temp'])\n",
    "\n",
    "plt.title(\"Latitude vs Temperature\")\n",
    "\n",
    "plt.xlabel(\"Latitude\")\n",
    "\n",
    "plt.ylabel(\"Temperature in (F)\")\n",
    "\n",
    "\n",
    "#save plotted figures as .pngs\n",
    "plt.savefig(\"temperature_vs_latitude.png\")\n",
    "\n",
    "plt.show()"
   ]
  },
  {
   "cell_type": "markdown",
   "metadata": {},
   "source": [
    "## Latitude vs. Humidity Plot"
   ]
  },
  {
   "cell_type": "code",
   "execution_count": null,
   "metadata": {},
   "outputs": [],
   "source": [
    "#same format as previous\n",
    "plt.scatter(weather_data['Lat'], weather_data['Humidity'])\n",
    "                         \n",
    "plt.title(\"Latitude vs Humidity Plot\")\n",
    "\n",
    "plt.xlabel(\"Latitude\", color=\"red\")\n",
    "\n",
    "plt.ylabel(\"Humidity\", color=\"blue\")\n",
    "\n",
    "plt.savefig(\"Humidity_vs_Latitude.png\")\n"
   ]
  },
  {
   "cell_type": "markdown",
   "metadata": {},
   "source": [
    "## Latitude vs. Cloudiness Plot"
   ]
  },
  {
   "cell_type": "code",
   "execution_count": null,
   "metadata": {},
   "outputs": [],
   "source": [
    "#same format as previous\n",
    "plt.scatter(weather_data['Lat'], weather_data['Cloudiness'])\n",
    "                         \n",
    "plt.title(\"Latitude vs Cloudiness Plot\")\n",
    "\n",
    "plt.xlabel(\"Latitude\")\n",
    "\n",
    "plt.ylabel(\"Cloudiness\")\n",
    "\n",
    "plt.savefig(\"Cloudiness_vs_Latitude.png\")"
   ]
  },
  {
   "cell_type": "markdown",
   "metadata": {},
   "source": [
    "## Latitude vs. Wind Speed Plot"
   ]
  },
  {
   "cell_type": "code",
   "execution_count": null,
   "metadata": {},
   "outputs": [],
   "source": [
    "#same format as previous\n",
    "plt.scatter(weather_data['Lat'], weather_data['Wind Speed'])\n",
    "                         \n",
    "plt.title(\"Latitude vs Wind Speed Plot\")\n",
    "\n",
    "plt.xlabel(\"Latitude\")\n",
    "\n",
    "plt.ylabel(\"Wind Speed\")\n",
    "\n",
    "plt.savefig(\"Wind_Speed_vs_Latitude.png\")"
   ]
  }
 ],
 "metadata": {
  "anaconda-cloud": {},
  "kernel_info": {
   "name": "python3"
  },
  "kernelspec": {
   "display_name": "Python 3",
   "language": "python",
   "name": "python3"
  },
  "language_info": {
   "codemirror_mode": {
    "name": "ipython",
    "version": 3
   },
   "file_extension": ".py",
   "mimetype": "text/x-python",
   "name": "python",
   "nbconvert_exporter": "python",
   "pygments_lexer": "ipython3",
   "version": "3.6.10"
  },
  "latex_envs": {
   "LaTeX_envs_menu_present": true,
   "autoclose": false,
   "autocomplete": true,
   "bibliofile": "biblio.bib",
   "cite_by": "apalike",
   "current_citInitial": 1,
   "eqLabelWithNumbers": true,
   "eqNumInitial": 1,
   "hotkeys": {
    "equation": "Ctrl-E",
    "itemize": "Ctrl-I"
   },
   "labels_anchors": false,
   "latex_user_defs": false,
   "report_style_numbering": false,
   "user_envs_cfg": false
  },
  "nteract": {
   "version": "0.12.3"
  }
 },
 "nbformat": 4,
 "nbformat_minor": 2
}
